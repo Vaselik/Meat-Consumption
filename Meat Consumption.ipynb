{
 "cells": [
  {
   "cell_type": "markdown",
   "id": "cfe8a74e",
   "metadata": {},
   "source": [
    "# MEAT CONSUMPTION"
   ]
  },
  {
   "cell_type": "markdown",
   "id": "af1f17e4",
   "metadata": {},
   "source": [
    "Due to the rise of environmental awareness - more people turn to vegeterianism, banning of animal cruelty - I was wondering if global meat consumption has changed through the decades and if so which countries affected the most. Our data covers the period from 1990 until 2028"
   ]
  },
  {
   "cell_type": "markdown",
   "id": "12ea9695",
   "metadata": {},
   "source": [
    "* Data: https://www.kaggle.com/datasets/ulrikthygepedersen/meat-consumption"
   ]
  },
  {
   "cell_type": "markdown",
   "id": "2f0aecfb",
   "metadata": {},
   "source": [
    "The data didn't need much cleaning. <br> - I dropped two columns: 'indicator' and 'frequency' - didn't add any information. <br> - The game changer here is the column 'measure'. It has two units: kg and tons. I convert all of my data to kg per capita so as to have the same indicator and avoid miscalculations."
   ]
  },
  {
   "cell_type": "markdown",
   "id": "e0ce5054",
   "metadata": {},
   "source": [
    "Questions: \n",
    "1. In which year most meat was consumed\n",
    "2. What type of meat has been consumed the most\n",
    "3. Which country has most meat consumption in the year 2022\n",
    "4. What type of meat this country prefered the most in 2022\n",
    "5. There was increase or decrease of this type of meat in this country throughtout the years and what's the percentage of it"
   ]
  },
  {
   "cell_type": "markdown",
   "id": "7cb582a5",
   "metadata": {},
   "source": [
    "Hypothesis:\n",
    "1. Meat has been used mainly in fast foods, which are the cheapest way of eating. So definetely there will be in the last decade\n",
    "2. I think pig is the cheapest type of meat, definetely needs further investigation\n",
    "3. USA \n",
    "4. Between beef and pig\n",
    "5. Increase - easy way of processing"
   ]
  },
  {
   "cell_type": "code",
   "execution_count": 22,
   "id": "1ded04ec",
   "metadata": {},
   "outputs": [],
   "source": [
    "import pandas as pd\n",
    "import numpy as np\n",
    "import matplotlib.pyplot as plt"
   ]
  },
  {
   "cell_type": "code",
   "execution_count": 3,
   "id": "cb59c839",
   "metadata": {},
   "outputs": [
    {
     "data": {
      "text/html": [
       "<div>\n",
       "<style scoped>\n",
       "    .dataframe tbody tr th:only-of-type {\n",
       "        vertical-align: middle;\n",
       "    }\n",
       "\n",
       "    .dataframe tbody tr th {\n",
       "        vertical-align: top;\n",
       "    }\n",
       "\n",
       "    .dataframe thead th {\n",
       "        text-align: right;\n",
       "    }\n",
       "</style>\n",
       "<table border=\"1\" class=\"dataframe\">\n",
       "  <thead>\n",
       "    <tr style=\"text-align: right;\">\n",
       "      <th></th>\n",
       "      <th>location</th>\n",
       "      <th>indicator</th>\n",
       "      <th>subject</th>\n",
       "      <th>measure</th>\n",
       "      <th>frequency</th>\n",
       "      <th>time</th>\n",
       "      <th>value</th>\n",
       "    </tr>\n",
       "  </thead>\n",
       "  <tbody>\n",
       "    <tr>\n",
       "      <th>0</th>\n",
       "      <td>AUS</td>\n",
       "      <td>MEATCONSUMP</td>\n",
       "      <td>BEEF</td>\n",
       "      <td>KG_CAP</td>\n",
       "      <td>A</td>\n",
       "      <td>1990</td>\n",
       "      <td>0.000004</td>\n",
       "    </tr>\n",
       "    <tr>\n",
       "      <th>1</th>\n",
       "      <td>AUS</td>\n",
       "      <td>MEATCONSUMP</td>\n",
       "      <td>BEEF</td>\n",
       "      <td>KG_CAP</td>\n",
       "      <td>A</td>\n",
       "      <td>1991</td>\n",
       "      <td>27.808401</td>\n",
       "    </tr>\n",
       "    <tr>\n",
       "      <th>2</th>\n",
       "      <td>AUS</td>\n",
       "      <td>MEATCONSUMP</td>\n",
       "      <td>BEEF</td>\n",
       "      <td>KG_CAP</td>\n",
       "      <td>A</td>\n",
       "      <td>1992</td>\n",
       "      <td>26.278166</td>\n",
       "    </tr>\n",
       "    <tr>\n",
       "      <th>3</th>\n",
       "      <td>AUS</td>\n",
       "      <td>MEATCONSUMP</td>\n",
       "      <td>BEEF</td>\n",
       "      <td>KG_CAP</td>\n",
       "      <td>A</td>\n",
       "      <td>1993</td>\n",
       "      <td>26.244478</td>\n",
       "    </tr>\n",
       "    <tr>\n",
       "      <th>4</th>\n",
       "      <td>AUS</td>\n",
       "      <td>MEATCONSUMP</td>\n",
       "      <td>BEEF</td>\n",
       "      <td>KG_CAP</td>\n",
       "      <td>A</td>\n",
       "      <td>1994</td>\n",
       "      <td>25.541244</td>\n",
       "    </tr>\n",
       "  </tbody>\n",
       "</table>\n",
       "</div>"
      ],
      "text/plain": [
       "  location    indicator subject measure frequency  time      value\n",
       "0      AUS  MEATCONSUMP    BEEF  KG_CAP         A  1990   0.000004\n",
       "1      AUS  MEATCONSUMP    BEEF  KG_CAP         A  1991  27.808401\n",
       "2      AUS  MEATCONSUMP    BEEF  KG_CAP         A  1992  26.278166\n",
       "3      AUS  MEATCONSUMP    BEEF  KG_CAP         A  1993  26.244478\n",
       "4      AUS  MEATCONSUMP    BEEF  KG_CAP         A  1994  25.541244"
      ]
     },
     "execution_count": 3,
     "metadata": {},
     "output_type": "execute_result"
    }
   ],
   "source": [
    "meat = pd.read_csv(r\"C:\\Users\\gianis\\\\Downloads\\meat_consumption.csv\")\n",
    "meat.head()"
   ]
  },
  {
   "cell_type": "code",
   "execution_count": 18,
   "id": "0b2d6aaa",
   "metadata": {},
   "outputs": [],
   "source": [
    "meat = meat.drop(columns=['indicator', 'frequency'])"
   ]
  },
  {
   "cell_type": "code",
   "execution_count": 20,
   "id": "1b9defab",
   "metadata": {},
   "outputs": [
    {
     "name": "stdout",
     "output_type": "stream",
     "text": [
      "<class 'pandas.core.frame.DataFrame'>\n",
      "RangeIndex: 12140 entries, 0 to 12139\n",
      "Data columns (total 5 columns):\n",
      " #   Column    Non-Null Count  Dtype  \n",
      "---  ------    --------------  -----  \n",
      " 0   location  12140 non-null  object \n",
      " 1   subject   12140 non-null  object \n",
      " 2   measure   12140 non-null  object \n",
      " 3   time      12140 non-null  int64  \n",
      " 4   value     12140 non-null  float64\n",
      "dtypes: float64(1), int64(1), object(3)\n",
      "memory usage: 474.3+ KB\n"
     ]
    }
   ],
   "source": [
    "meat.info()"
   ]
  },
  {
   "cell_type": "code",
   "execution_count": 21,
   "id": "4e42d9d2",
   "metadata": {},
   "outputs": [
    {
     "data": {
      "text/html": [
       "<div>\n",
       "<style scoped>\n",
       "    .dataframe tbody tr th:only-of-type {\n",
       "        vertical-align: middle;\n",
       "    }\n",
       "\n",
       "    .dataframe tbody tr th {\n",
       "        vertical-align: top;\n",
       "    }\n",
       "\n",
       "    .dataframe thead th {\n",
       "        text-align: right;\n",
       "    }\n",
       "</style>\n",
       "<table border=\"1\" class=\"dataframe\">\n",
       "  <thead>\n",
       "    <tr style=\"text-align: right;\">\n",
       "      <th></th>\n",
       "      <th>time</th>\n",
       "      <th>value</th>\n",
       "    </tr>\n",
       "  </thead>\n",
       "  <tbody>\n",
       "    <tr>\n",
       "      <th>count</th>\n",
       "      <td>12140.000000</td>\n",
       "      <td>1.214000e+04</td>\n",
       "    </tr>\n",
       "    <tr>\n",
       "      <th>mean</th>\n",
       "      <td>2009.042175</td>\n",
       "      <td>2.245855e+03</td>\n",
       "    </tr>\n",
       "    <tr>\n",
       "      <th>std</th>\n",
       "      <td>11.233660</td>\n",
       "      <td>1.040812e+04</td>\n",
       "    </tr>\n",
       "    <tr>\n",
       "      <th>min</th>\n",
       "      <td>1990.000000</td>\n",
       "      <td>7.505681e-08</td>\n",
       "    </tr>\n",
       "    <tr>\n",
       "      <th>25%</th>\n",
       "      <td>1999.000000</td>\n",
       "      <td>5.013586e+00</td>\n",
       "    </tr>\n",
       "    <tr>\n",
       "      <th>50%</th>\n",
       "      <td>2009.000000</td>\n",
       "      <td>2.427455e+01</td>\n",
       "    </tr>\n",
       "    <tr>\n",
       "      <th>75%</th>\n",
       "      <td>2019.000000</td>\n",
       "      <td>4.355984e+02</td>\n",
       "    </tr>\n",
       "    <tr>\n",
       "      <th>max</th>\n",
       "      <td>2028.000000</td>\n",
       "      <td>1.402526e+05</td>\n",
       "    </tr>\n",
       "  </tbody>\n",
       "</table>\n",
       "</div>"
      ],
      "text/plain": [
       "               time         value\n",
       "count  12140.000000  1.214000e+04\n",
       "mean    2009.042175  2.245855e+03\n",
       "std       11.233660  1.040812e+04\n",
       "min     1990.000000  7.505681e-08\n",
       "25%     1999.000000  5.013586e+00\n",
       "50%     2009.000000  2.427455e+01\n",
       "75%     2019.000000  4.355984e+02\n",
       "max     2028.000000  1.402526e+05"
      ]
     },
     "execution_count": 21,
     "metadata": {},
     "output_type": "execute_result"
    }
   ],
   "source": [
    "meat.describe()"
   ]
  },
  {
   "cell_type": "markdown",
   "id": "fc3ebf67",
   "metadata": {},
   "source": [
    "#### Convert thousand tons (THND_TONNE) to kg per capita (KG_CAP)\n",
    "* kg = tons * 1000 "
   ]
  },
  {
   "cell_type": "code",
   "execution_count": 37,
   "id": "0b68beb5",
   "metadata": {},
   "outputs": [
    {
     "data": {
      "text/html": [
       "<div>\n",
       "<style scoped>\n",
       "    .dataframe tbody tr th:only-of-type {\n",
       "        vertical-align: middle;\n",
       "    }\n",
       "\n",
       "    .dataframe tbody tr th {\n",
       "        vertical-align: top;\n",
       "    }\n",
       "\n",
       "    .dataframe thead th {\n",
       "        text-align: right;\n",
       "    }\n",
       "</style>\n",
       "<table border=\"1\" class=\"dataframe\">\n",
       "  <thead>\n",
       "    <tr style=\"text-align: right;\">\n",
       "      <th></th>\n",
       "      <th>location</th>\n",
       "      <th>subject</th>\n",
       "      <th>measure</th>\n",
       "      <th>time</th>\n",
       "      <th>value</th>\n",
       "      <th>quantity</th>\n",
       "    </tr>\n",
       "  </thead>\n",
       "  <tbody>\n",
       "    <tr>\n",
       "      <th>0</th>\n",
       "      <td>AUS</td>\n",
       "      <td>BEEF</td>\n",
       "      <td>KG_CAP</td>\n",
       "      <td>1990</td>\n",
       "      <td>0.000004</td>\n",
       "      <td>0.000004</td>\n",
       "    </tr>\n",
       "    <tr>\n",
       "      <th>1</th>\n",
       "      <td>AUS</td>\n",
       "      <td>BEEF</td>\n",
       "      <td>KG_CAP</td>\n",
       "      <td>1991</td>\n",
       "      <td>27.808401</td>\n",
       "      <td>27.808401</td>\n",
       "    </tr>\n",
       "    <tr>\n",
       "      <th>2</th>\n",
       "      <td>AUS</td>\n",
       "      <td>BEEF</td>\n",
       "      <td>KG_CAP</td>\n",
       "      <td>1992</td>\n",
       "      <td>26.278166</td>\n",
       "      <td>26.278166</td>\n",
       "    </tr>\n",
       "    <tr>\n",
       "      <th>3</th>\n",
       "      <td>AUS</td>\n",
       "      <td>BEEF</td>\n",
       "      <td>KG_CAP</td>\n",
       "      <td>1993</td>\n",
       "      <td>26.244478</td>\n",
       "      <td>26.244478</td>\n",
       "    </tr>\n",
       "    <tr>\n",
       "      <th>4</th>\n",
       "      <td>AUS</td>\n",
       "      <td>BEEF</td>\n",
       "      <td>KG_CAP</td>\n",
       "      <td>1994</td>\n",
       "      <td>25.541244</td>\n",
       "      <td>25.541244</td>\n",
       "    </tr>\n",
       "  </tbody>\n",
       "</table>\n",
       "</div>"
      ],
      "text/plain": [
       "  location subject measure  time      value   quantity\n",
       "0      AUS    BEEF  KG_CAP  1990   0.000004   0.000004\n",
       "1      AUS    BEEF  KG_CAP  1991  27.808401  27.808401\n",
       "2      AUS    BEEF  KG_CAP  1992  26.278166  26.278166\n",
       "3      AUS    BEEF  KG_CAP  1993  26.244478  26.244478\n",
       "4      AUS    BEEF  KG_CAP  1994  25.541244  25.541244"
      ]
     },
     "execution_count": 37,
     "metadata": {},
     "output_type": "execute_result"
    }
   ],
   "source": [
    "quantity = meat['value'] * 1000\n",
    "\n",
    "meat['quantity'] = quantity.where(meat.measure == 'THND_TONNE', other=None)\n",
    "\n",
    "meat['quantity'] = meat['quantity'].fillna(meat['value'])\n",
    "\n",
    "meat.head()"
   ]
  },
  {
   "cell_type": "code",
   "execution_count": 41,
   "id": "5799bb6f",
   "metadata": {},
   "outputs": [
    {
     "data": {
      "text/html": [
       "<div>\n",
       "<style scoped>\n",
       "    .dataframe tbody tr th:only-of-type {\n",
       "        vertical-align: middle;\n",
       "    }\n",
       "\n",
       "    .dataframe tbody tr th {\n",
       "        vertical-align: top;\n",
       "    }\n",
       "\n",
       "    .dataframe thead th {\n",
       "        text-align: right;\n",
       "    }\n",
       "</style>\n",
       "<table border=\"1\" class=\"dataframe\">\n",
       "  <thead>\n",
       "    <tr style=\"text-align: right;\">\n",
       "      <th></th>\n",
       "      <th>location</th>\n",
       "      <th>subject</th>\n",
       "      <th>time</th>\n",
       "      <th>quantity</th>\n",
       "    </tr>\n",
       "  </thead>\n",
       "  <tbody>\n",
       "    <tr>\n",
       "      <th>0</th>\n",
       "      <td>AUS</td>\n",
       "      <td>BEEF</td>\n",
       "      <td>1990</td>\n",
       "      <td>0.000004</td>\n",
       "    </tr>\n",
       "    <tr>\n",
       "      <th>1</th>\n",
       "      <td>AUS</td>\n",
       "      <td>BEEF</td>\n",
       "      <td>1991</td>\n",
       "      <td>27.808401</td>\n",
       "    </tr>\n",
       "    <tr>\n",
       "      <th>2</th>\n",
       "      <td>AUS</td>\n",
       "      <td>BEEF</td>\n",
       "      <td>1992</td>\n",
       "      <td>26.278166</td>\n",
       "    </tr>\n",
       "    <tr>\n",
       "      <th>3</th>\n",
       "      <td>AUS</td>\n",
       "      <td>BEEF</td>\n",
       "      <td>1993</td>\n",
       "      <td>26.244478</td>\n",
       "    </tr>\n",
       "    <tr>\n",
       "      <th>4</th>\n",
       "      <td>AUS</td>\n",
       "      <td>BEEF</td>\n",
       "      <td>1994</td>\n",
       "      <td>25.541244</td>\n",
       "    </tr>\n",
       "  </tbody>\n",
       "</table>\n",
       "</div>"
      ],
      "text/plain": [
       "  location subject  time   quantity\n",
       "0      AUS    BEEF  1990   0.000004\n",
       "1      AUS    BEEF  1991  27.808401\n",
       "2      AUS    BEEF  1992  26.278166\n",
       "3      AUS    BEEF  1993  26.244478\n",
       "4      AUS    BEEF  1994  25.541244"
      ]
     },
     "execution_count": 41,
     "metadata": {},
     "output_type": "execute_result"
    }
   ],
   "source": [
    "#Drop column 'value', since I have trasfered the data to quantity\n",
    "#Also drop column 'measure', since now there is a unique value. We know that we work with kg per capita\n",
    "\n",
    "\n",
    "meat_cons = meat.drop(columns=['measure', 'value'])\n",
    "meat_cons.head()"
   ]
  },
  {
   "cell_type": "code",
   "execution_count": 47,
   "id": "9f48e7b0",
   "metadata": {},
   "outputs": [
    {
     "name": "stdout",
     "output_type": "stream",
     "text": [
      "<class 'pandas.core.frame.DataFrame'>\n",
      "RangeIndex: 12140 entries, 0 to 12139\n",
      "Data columns (total 4 columns):\n",
      " #   Column    Non-Null Count  Dtype  \n",
      "---  ------    --------------  -----  \n",
      " 0   location  12140 non-null  object \n",
      " 1   subject   12140 non-null  object \n",
      " 2   time      12140 non-null  int64  \n",
      " 3   quantity  12140 non-null  float64\n",
      "dtypes: float64(1), int64(1), object(2)\n",
      "memory usage: 379.5+ KB\n"
     ]
    }
   ],
   "source": [
    "meat_cons.info()"
   ]
  },
  {
   "cell_type": "code",
   "execution_count": 42,
   "id": "22650b90",
   "metadata": {},
   "outputs": [
    {
     "data": {
      "text/plain": [
       "location       39\n",
       "subject         4\n",
       "time           39\n",
       "quantity    11909\n",
       "dtype: int64"
      ]
     },
     "execution_count": 42,
     "metadata": {},
     "output_type": "execute_result"
    }
   ],
   "source": [
    "meat_cons.nunique()"
   ]
  },
  {
   "cell_type": "markdown",
   "id": "e0beb3b1",
   "metadata": {},
   "source": [
    "### 1)Which year is the king of meat consumption?"
   ]
  },
  {
   "cell_type": "code",
   "execution_count": 46,
   "id": "fe4e29d0",
   "metadata": {},
   "outputs": [
    {
     "data": {
      "text/html": [
       "<div>\n",
       "<style scoped>\n",
       "    .dataframe tbody tr th:only-of-type {\n",
       "        vertical-align: middle;\n",
       "    }\n",
       "\n",
       "    .dataframe tbody tr th {\n",
       "        vertical-align: top;\n",
       "    }\n",
       "\n",
       "    .dataframe thead th {\n",
       "        text-align: right;\n",
       "    }\n",
       "</style>\n",
       "<table border=\"1\" class=\"dataframe\">\n",
       "  <thead>\n",
       "    <tr style=\"text-align: right;\">\n",
       "      <th></th>\n",
       "      <th>time</th>\n",
       "      <th>quantity</th>\n",
       "    </tr>\n",
       "  </thead>\n",
       "  <tbody>\n",
       "    <tr>\n",
       "      <th>0</th>\n",
       "      <td>2028</td>\n",
       "      <td>9.457768e+08</td>\n",
       "    </tr>\n",
       "    <tr>\n",
       "      <th>1</th>\n",
       "      <td>2027</td>\n",
       "      <td>9.373358e+08</td>\n",
       "    </tr>\n",
       "    <tr>\n",
       "      <th>2</th>\n",
       "      <td>2026</td>\n",
       "      <td>9.289997e+08</td>\n",
       "    </tr>\n",
       "    <tr>\n",
       "      <th>3</th>\n",
       "      <td>2025</td>\n",
       "      <td>9.205872e+08</td>\n",
       "    </tr>\n",
       "    <tr>\n",
       "      <th>4</th>\n",
       "      <td>2024</td>\n",
       "      <td>9.123125e+08</td>\n",
       "    </tr>\n",
       "  </tbody>\n",
       "</table>\n",
       "</div>"
      ],
      "text/plain": [
       "   time      quantity\n",
       "0  2028  9.457768e+08\n",
       "1  2027  9.373358e+08\n",
       "2  2026  9.289997e+08\n",
       "3  2025  9.205872e+08\n",
       "4  2024  9.123125e+08"
      ]
     },
     "execution_count": 46,
     "metadata": {},
     "output_type": "execute_result"
    }
   ],
   "source": [
    "year = meat_cons.groupby('time')['quantity'].sum().sort_values(ascending=False).round(2).reset_index()\n",
    "year.head()"
   ]
  },
  {
   "cell_type": "code",
   "execution_count": 97,
   "id": "bb5266cf",
   "metadata": {},
   "outputs": [
    {
     "data": {
      "image/png": "[encoded data removed]",
      "text/plain": [
       "<Figure size 720x360 with 1 Axes>"
      ]
     },
     "metadata": {
      "needs_background": "light"
     },
     "output_type": "display_data"
    }
   ],
   "source": [
    "plt.figure(figsize=(10,5))\n",
    "\n",
    "x=year['time']\n",
    "y=year['quantity']\n",
    "\n",
    "plt.plot(x, y, linestyle=\"-\", marker=\"o\")\n",
    "plt.xlabel('Time')\n",
    "plt.ylabel('Quantity')\n",
    "plt.title('Meat Consumption')\n",
    "\n",
    "plt.show()"
   ]
  },
  {
   "cell_type": "markdown",
   "id": "e048551c",
   "metadata": {},
   "source": [
    "### 2)What type of meat has been eaten the most through these 3 decades"
   ]
  },
  {
   "cell_type": "code",
   "execution_count": 197,
   "id": "d0f8a29c",
   "metadata": {},
   "outputs": [
    {
     "data": {
      "text/html": [
       "<div>\n",
       "<style scoped>\n",
       "    .dataframe tbody tr th:only-of-type {\n",
       "        vertical-align: middle;\n",
       "    }\n",
       "\n",
       "    .dataframe tbody tr th {\n",
       "        vertical-align: top;\n",
       "    }\n",
       "\n",
       "    .dataframe thead th {\n",
       "        text-align: right;\n",
       "    }\n",
       "</style>\n",
       "<table border=\"1\" class=\"dataframe\">\n",
       "  <thead>\n",
       "    <tr style=\"text-align: right;\">\n",
       "      <th></th>\n",
       "      <th>subject</th>\n",
       "      <th>time</th>\n",
       "      <th>quantity</th>\n",
       "    </tr>\n",
       "  </thead>\n",
       "  <tbody>\n",
       "    <tr>\n",
       "      <th>0</th>\n",
       "      <td>BEEF</td>\n",
       "      <td>1990</td>\n",
       "      <td>0.000004</td>\n",
       "    </tr>\n",
       "    <tr>\n",
       "      <th>1</th>\n",
       "      <td>BEEF</td>\n",
       "      <td>1991</td>\n",
       "      <td>27.808401</td>\n",
       "    </tr>\n",
       "    <tr>\n",
       "      <th>2</th>\n",
       "      <td>BEEF</td>\n",
       "      <td>1992</td>\n",
       "      <td>26.278166</td>\n",
       "    </tr>\n",
       "    <tr>\n",
       "      <th>3</th>\n",
       "      <td>BEEF</td>\n",
       "      <td>1993</td>\n",
       "      <td>26.244478</td>\n",
       "    </tr>\n",
       "    <tr>\n",
       "      <th>4</th>\n",
       "      <td>BEEF</td>\n",
       "      <td>1994</td>\n",
       "      <td>25.541244</td>\n",
       "    </tr>\n",
       "  </tbody>\n",
       "</table>\n",
       "</div>"
      ],
      "text/plain": [
       "  subject  time   quantity\n",
       "0    BEEF  1990   0.000004\n",
       "1    BEEF  1991  27.808401\n",
       "2    BEEF  1992  26.278166\n",
       "3    BEEF  1993  26.244478\n",
       "4    BEEF  1994  25.541244"
      ]
     },
     "execution_count": 197,
     "metadata": {},
     "output_type": "execute_result"
    }
   ],
   "source": [
    "meat_type = meat_cons[[ 'subject', 'time', 'quantity']]\n",
    "meat_type.head()"
   ]
  },
  {
   "cell_type": "code",
   "execution_count": 200,
   "id": "710b97e0",
   "metadata": {},
   "outputs": [
    {
     "data": {
      "text/html": [
       "<div>\n",
       "<style scoped>\n",
       "    .dataframe tbody tr th:only-of-type {\n",
       "        vertical-align: middle;\n",
       "    }\n",
       "\n",
       "    .dataframe tbody tr th {\n",
       "        vertical-align: top;\n",
       "    }\n",
       "\n",
       "    .dataframe thead th {\n",
       "        text-align: right;\n",
       "    }\n",
       "</style>\n",
       "<table border=\"1\" class=\"dataframe\">\n",
       "  <thead>\n",
       "    <tr style=\"text-align: right;\">\n",
       "      <th>subject</th>\n",
       "      <th>BEEF</th>\n",
       "      <th>PIG</th>\n",
       "      <th>POULTRY</th>\n",
       "      <th>SHEEP</th>\n",
       "    </tr>\n",
       "    <tr>\n",
       "      <th>time</th>\n",
       "      <th></th>\n",
       "      <th></th>\n",
       "      <th></th>\n",
       "      <th></th>\n",
       "    </tr>\n",
       "  </thead>\n",
       "  <tbody>\n",
       "    <tr>\n",
       "      <th>1990</th>\n",
       "      <td>1.259045e+06</td>\n",
       "      <td>1.600373e+06</td>\n",
       "      <td>9.143868e+05</td>\n",
       "      <td>204076.976669</td>\n",
       "    </tr>\n",
       "    <tr>\n",
       "      <th>1991</th>\n",
       "      <td>1.319125e+06</td>\n",
       "      <td>1.711755e+06</td>\n",
       "      <td>1.127570e+06</td>\n",
       "      <td>216178.241356</td>\n",
       "    </tr>\n",
       "    <tr>\n",
       "      <th>1992</th>\n",
       "      <td>1.463511e+06</td>\n",
       "      <td>1.773768e+06</td>\n",
       "      <td>1.225249e+06</td>\n",
       "      <td>227611.945166</td>\n",
       "    </tr>\n",
       "    <tr>\n",
       "      <th>1993</th>\n",
       "      <td>1.456196e+06</td>\n",
       "      <td>1.950334e+06</td>\n",
       "      <td>1.305106e+06</td>\n",
       "      <td>232249.170970</td>\n",
       "    </tr>\n",
       "    <tr>\n",
       "      <th>1994</th>\n",
       "      <td>1.519490e+06</td>\n",
       "      <td>2.060207e+06</td>\n",
       "      <td>1.399303e+06</td>\n",
       "      <td>239778.892541</td>\n",
       "    </tr>\n",
       "  </tbody>\n",
       "</table>\n",
       "</div>"
      ],
      "text/plain": [
       "subject          BEEF           PIG       POULTRY          SHEEP\n",
       "time                                                            \n",
       "1990     1.259045e+06  1.600373e+06  9.143868e+05  204076.976669\n",
       "1991     1.319125e+06  1.711755e+06  1.127570e+06  216178.241356\n",
       "1992     1.463511e+06  1.773768e+06  1.225249e+06  227611.945166\n",
       "1993     1.456196e+06  1.950334e+06  1.305106e+06  232249.170970\n",
       "1994     1.519490e+06  2.060207e+06  1.399303e+06  239778.892541"
      ]
     },
     "execution_count": 200,
     "metadata": {},
     "output_type": "execute_result"
    }
   ],
   "source": [
    "#pivot table\n",
    "\n",
    "meat_type_pivot = meat_type.pivot_table(index='time', columns='subject', values='quantity')\n",
    "\n",
    "meat_type_pivot.head()"
   ]
  },
  {
   "cell_type": "code",
   "execution_count": 212,
   "id": "04512548",
   "metadata": {},
   "outputs": [
    {
     "data": {
      "text/plain": [
       "Text(0.5, 1.0, 'Different types of meat consumption')"
      ]
     },
     "execution_count": 212,
     "metadata": {},
     "output_type": "execute_result"
    },
    {
     "data": {
      "image/png": "[encoded data removed]",
      "text/plain": [
       "<Figure size 720x360 with 1 Axes>"
      ]
     },
     "metadata": {
      "needs_background": "light"
     },
     "output_type": "display_data"
    }
   ],
   "source": [
    "#use the results into a plot\n",
    "\n",
    "ax = meat_type_pivot.plot(figsize=(10,5))\n",
    "ax.set_ylabel('meat type')\n",
    "ax.legend(bbox_to_anchor=(1, 1))\n",
    "ax.set_title('Different types of meat consumption')"
   ]
  },
  {
   "cell_type": "code",
   "execution_count": null,
   "id": "dd6aaabc",
   "metadata": {},
   "outputs": [],
   "source": []
  },
  {
   "cell_type": "markdown",
   "id": "b19914a7",
   "metadata": {},
   "source": [
    "### 3)Which country consumed the most meat in the 2022"
   ]
  },
  {
   "cell_type": "code",
   "execution_count": 108,
   "id": "357189a9",
   "metadata": {},
   "outputs": [],
   "source": [
    "meat_22 = meat_cons.loc[meat_cons['time'] == 2022]"
   ]
  },
  {
   "cell_type": "code",
   "execution_count": 110,
   "id": "93d6f84b",
   "metadata": {},
   "outputs": [
    {
     "data": {
      "text/html": [
       "<div>\n",
       "<style scoped>\n",
       "    .dataframe tbody tr th:only-of-type {\n",
       "        vertical-align: middle;\n",
       "    }\n",
       "\n",
       "    .dataframe tbody tr th {\n",
       "        vertical-align: top;\n",
       "    }\n",
       "\n",
       "    .dataframe thead th {\n",
       "        text-align: right;\n",
       "    }\n",
       "</style>\n",
       "<table border=\"1\" class=\"dataframe\">\n",
       "  <thead>\n",
       "    <tr style=\"text-align: right;\">\n",
       "      <th></th>\n",
       "      <th>location</th>\n",
       "      <th>quantity</th>\n",
       "    </tr>\n",
       "  </thead>\n",
       "  <tbody>\n",
       "    <tr>\n",
       "      <th>0</th>\n",
       "      <td>WLD</td>\n",
       "      <td>3.416611e+08</td>\n",
       "    </tr>\n",
       "    <tr>\n",
       "      <th>1</th>\n",
       "      <td>BRICS</td>\n",
       "      <td>1.332227e+08</td>\n",
       "    </tr>\n",
       "    <tr>\n",
       "      <th>2</th>\n",
       "      <td>OECD</td>\n",
       "      <td>1.196356e+08</td>\n",
       "    </tr>\n",
       "    <tr>\n",
       "      <th>3</th>\n",
       "      <td>CHN</td>\n",
       "      <td>9.027864e+07</td>\n",
       "    </tr>\n",
       "    <tr>\n",
       "      <th>4</th>\n",
       "      <td>USA</td>\n",
       "      <td>4.217568e+07</td>\n",
       "    </tr>\n",
       "    <tr>\n",
       "      <th>5</th>\n",
       "      <td>EU27</td>\n",
       "      <td>3.920519e+07</td>\n",
       "    </tr>\n",
       "    <tr>\n",
       "      <th>6</th>\n",
       "      <td>BRA</td>\n",
       "      <td>2.113178e+07</td>\n",
       "    </tr>\n",
       "    <tr>\n",
       "      <th>7</th>\n",
       "      <td>RUS</td>\n",
       "      <td>1.147585e+07</td>\n",
       "    </tr>\n",
       "    <tr>\n",
       "      <th>8</th>\n",
       "      <td>MEX</td>\n",
       "      <td>8.818701e+06</td>\n",
       "    </tr>\n",
       "    <tr>\n",
       "      <th>9</th>\n",
       "      <td>VNM</td>\n",
       "      <td>7.040673e+06</td>\n",
       "    </tr>\n",
       "  </tbody>\n",
       "</table>\n",
       "</div>"
      ],
      "text/plain": [
       "  location      quantity\n",
       "0      WLD  3.416611e+08\n",
       "1    BRICS  1.332227e+08\n",
       "2     OECD  1.196356e+08\n",
       "3      CHN  9.027864e+07\n",
       "4      USA  4.217568e+07\n",
       "5     EU27  3.920519e+07\n",
       "6      BRA  2.113178e+07\n",
       "7      RUS  1.147585e+07\n",
       "8      MEX  8.818701e+06\n",
       "9      VNM  7.040673e+06"
      ]
     },
     "execution_count": 110,
     "metadata": {},
     "output_type": "execute_result"
    }
   ],
   "source": [
    "country = meat_22.groupby('location')['quantity'].sum().sort_values(ascending=False).reset_index()\n",
    "country.head(10)"
   ]
  },
  {
   "cell_type": "code",
   "execution_count": null,
   "id": "1a2054ee",
   "metadata": {},
   "outputs": [],
   "source": []
  },
  {
   "cell_type": "markdown",
   "id": "18ed02ee",
   "metadata": {},
   "source": [
    "### 4)What type of Meat is Mostly consumed in China in 2022"
   ]
  },
  {
   "cell_type": "code",
   "execution_count": 113,
   "id": "9508cbc1",
   "metadata": {},
   "outputs": [],
   "source": [
    "china = meat_22[meat_22['location'] == 'CHN']"
   ]
  },
  {
   "cell_type": "code",
   "execution_count": 114,
   "id": "ac2a8729",
   "metadata": {},
   "outputs": [
    {
     "data": {
      "text/html": [
       "<div>\n",
       "<style scoped>\n",
       "    .dataframe tbody tr th:only-of-type {\n",
       "        vertical-align: middle;\n",
       "    }\n",
       "\n",
       "    .dataframe tbody tr th {\n",
       "        vertical-align: top;\n",
       "    }\n",
       "\n",
       "    .dataframe thead th {\n",
       "        text-align: right;\n",
       "    }\n",
       "</style>\n",
       "<table border=\"1\" class=\"dataframe\">\n",
       "  <thead>\n",
       "    <tr style=\"text-align: right;\">\n",
       "      <th></th>\n",
       "      <th>subject</th>\n",
       "      <th>quantity</th>\n",
       "    </tr>\n",
       "  </thead>\n",
       "  <tbody>\n",
       "    <tr>\n",
       "      <th>0</th>\n",
       "      <td>PIG</td>\n",
       "      <td>56695942.26</td>\n",
       "    </tr>\n",
       "    <tr>\n",
       "      <th>1</th>\n",
       "      <td>POULTRY</td>\n",
       "      <td>20251552.39</td>\n",
       "    </tr>\n",
       "    <tr>\n",
       "      <th>2</th>\n",
       "      <td>BEEF</td>\n",
       "      <td>7958401.53</td>\n",
       "    </tr>\n",
       "    <tr>\n",
       "      <th>3</th>\n",
       "      <td>SHEEP</td>\n",
       "      <td>5372747.21</td>\n",
       "    </tr>\n",
       "  </tbody>\n",
       "</table>\n",
       "</div>"
      ],
      "text/plain": [
       "   subject     quantity\n",
       "0      PIG  56695942.26\n",
       "1  POULTRY  20251552.39\n",
       "2     BEEF   7958401.53\n",
       "3    SHEEP   5372747.21"
      ]
     },
     "execution_count": 114,
     "metadata": {},
     "output_type": "execute_result"
    }
   ],
   "source": [
    "china_meat = china.groupby('subject')['quantity'].sum().sort_values(ascending=False).round(2).reset_index()\n",
    "china_meat"
   ]
  },
  {
   "cell_type": "code",
   "execution_count": 170,
   "id": "2b10e134",
   "metadata": {},
   "outputs": [
    {
     "data": {
      "text/plain": [
       "array(['BEEF', 'PIG', 'POULTRY', 'SHEEP'], dtype=object)"
      ]
     },
     "execution_count": 170,
     "metadata": {},
     "output_type": "execute_result"
    }
   ],
   "source": [
    "china.subject.unique()"
   ]
  },
  {
   "cell_type": "code",
   "execution_count": 164,
   "id": "a2226d73",
   "metadata": {},
   "outputs": [
    {
     "data": {
      "image/png": "[encoded data removed]",
      "text/plain": [
       "<Figure size 576x576 with 1 Axes>"
      ]
     },
     "metadata": {},
     "output_type": "display_data"
    }
   ],
   "source": [
    "plt.figure(figsize=(8,8))\n",
    "plt.pie(china['quantity'], labels=china['subject'], autopct='%1.1f%%', textprops={'fontweight':'bold'})\n",
    "plt.title('Meat Consumption in China', fontweight='bold')\n",
    "plt.show()"
   ]
  },
  {
   "cell_type": "code",
   "execution_count": null,
   "id": "16f785e4",
   "metadata": {},
   "outputs": [],
   "source": []
  },
  {
   "cell_type": "markdown",
   "id": "c964eef0",
   "metadata": {},
   "source": [
    "### 5)Is there any increase/decrease in the use of pig in China from 1990"
   ]
  },
  {
   "cell_type": "code",
   "execution_count": 117,
   "id": "a6f4e45b",
   "metadata": {},
   "outputs": [
    {
     "data": {
      "text/html": [
       "<div>\n",
       "<style scoped>\n",
       "    .dataframe tbody tr th:only-of-type {\n",
       "        vertical-align: middle;\n",
       "    }\n",
       "\n",
       "    .dataframe tbody tr th {\n",
       "        vertical-align: top;\n",
       "    }\n",
       "\n",
       "    .dataframe thead th {\n",
       "        text-align: right;\n",
       "    }\n",
       "</style>\n",
       "<table border=\"1\" class=\"dataframe\">\n",
       "  <thead>\n",
       "    <tr style=\"text-align: right;\">\n",
       "      <th></th>\n",
       "      <th>location</th>\n",
       "      <th>subject</th>\n",
       "      <th>time</th>\n",
       "      <th>quantity</th>\n",
       "    </tr>\n",
       "  </thead>\n",
       "  <tbody>\n",
       "    <tr>\n",
       "      <th>1755</th>\n",
       "      <td>CHN</td>\n",
       "      <td>PIG</td>\n",
       "      <td>1990</td>\n",
       "      <td>1.501528e+01</td>\n",
       "    </tr>\n",
       "    <tr>\n",
       "      <th>1756</th>\n",
       "      <td>CHN</td>\n",
       "      <td>PIG</td>\n",
       "      <td>1991</td>\n",
       "      <td>1.590071e+01</td>\n",
       "    </tr>\n",
       "    <tr>\n",
       "      <th>1757</th>\n",
       "      <td>CHN</td>\n",
       "      <td>PIG</td>\n",
       "      <td>1992</td>\n",
       "      <td>1.698949e+01</td>\n",
       "    </tr>\n",
       "    <tr>\n",
       "      <th>1758</th>\n",
       "      <td>CHN</td>\n",
       "      <td>PIG</td>\n",
       "      <td>1993</td>\n",
       "      <td>1.818380e+01</td>\n",
       "    </tr>\n",
       "    <tr>\n",
       "      <th>1759</th>\n",
       "      <td>CHN</td>\n",
       "      <td>PIG</td>\n",
       "      <td>1994</td>\n",
       "      <td>1.969056e+01</td>\n",
       "    </tr>\n",
       "    <tr>\n",
       "      <th>...</th>\n",
       "      <td>...</td>\n",
       "      <td>...</td>\n",
       "      <td>...</td>\n",
       "      <td>...</td>\n",
       "    </tr>\n",
       "    <tr>\n",
       "      <th>9132</th>\n",
       "      <td>CHN</td>\n",
       "      <td>PIG</td>\n",
       "      <td>2024</td>\n",
       "      <td>5.754494e+07</td>\n",
       "    </tr>\n",
       "    <tr>\n",
       "      <th>9133</th>\n",
       "      <td>CHN</td>\n",
       "      <td>PIG</td>\n",
       "      <td>2025</td>\n",
       "      <td>5.797437e+07</td>\n",
       "    </tr>\n",
       "    <tr>\n",
       "      <th>9134</th>\n",
       "      <td>CHN</td>\n",
       "      <td>PIG</td>\n",
       "      <td>2026</td>\n",
       "      <td>5.840419e+07</td>\n",
       "    </tr>\n",
       "    <tr>\n",
       "      <th>9135</th>\n",
       "      <td>CHN</td>\n",
       "      <td>PIG</td>\n",
       "      <td>2027</td>\n",
       "      <td>5.882166e+07</td>\n",
       "    </tr>\n",
       "    <tr>\n",
       "      <th>9136</th>\n",
       "      <td>CHN</td>\n",
       "      <td>PIG</td>\n",
       "      <td>2028</td>\n",
       "      <td>5.924697e+07</td>\n",
       "    </tr>\n",
       "  </tbody>\n",
       "</table>\n",
       "<p>78 rows × 4 columns</p>\n",
       "</div>"
      ],
      "text/plain": [
       "     location subject  time      quantity\n",
       "1755      CHN     PIG  1990  1.501528e+01\n",
       "1756      CHN     PIG  1991  1.590071e+01\n",
       "1757      CHN     PIG  1992  1.698949e+01\n",
       "1758      CHN     PIG  1993  1.818380e+01\n",
       "1759      CHN     PIG  1994  1.969056e+01\n",
       "...       ...     ...   ...           ...\n",
       "9132      CHN     PIG  2024  5.754494e+07\n",
       "9133      CHN     PIG  2025  5.797437e+07\n",
       "9134      CHN     PIG  2026  5.840419e+07\n",
       "9135      CHN     PIG  2027  5.882166e+07\n",
       "9136      CHN     PIG  2028  5.924697e+07\n",
       "\n",
       "[78 rows x 4 columns]"
      ]
     },
     "execution_count": 117,
     "metadata": {},
     "output_type": "execute_result"
    }
   ],
   "source": [
    "china_pig = meat_cons.loc[(meat_cons['location'] == 'CHN') & (meat_cons['subject'] == 'PIG')]\n",
    "china_pig"
   ]
  },
  {
   "cell_type": "code",
   "execution_count": 118,
   "id": "527dd57b",
   "metadata": {},
   "outputs": [
    {
     "data": {
      "text/plain": [
       "1755         NaN\n",
       "1756    5.896862\n",
       "1757    6.847397\n",
       "1758    7.029690\n",
       "1759    8.286258\n",
       "          ...   \n",
       "9132    0.744124\n",
       "9133    0.746260\n",
       "9134    0.741391\n",
       "9135    0.714796\n",
       "9136    0.723059\n",
       "Name: quantity, Length: 78, dtype: float64"
      ]
     },
     "execution_count": 118,
     "metadata": {},
     "output_type": "execute_result"
    }
   ],
   "source": [
    "#what's the yearly percentage of pig consumption in CHN\n",
    "\n",
    "china_pig.quantity.pct_change() * 100"
   ]
  },
  {
   "cell_type": "code",
   "execution_count": 119,
   "id": "a6dd038d",
   "metadata": {},
   "outputs": [
    {
     "name": "stderr",
     "output_type": "stream",
     "text": [
      "<ipython-input-119-57aca4e289b9>:1: SettingWithCopyWarning: \n",
      "A value is trying to be set on a copy of a slice from a DataFrame.\n",
      "Try using .loc[row_indexer,col_indexer] = value instead\n",
      "\n",
      "See the caveats in the documentation: https://pandas.pydata.org/pandas-docs/stable/user_guide/indexing.html#returning-a-view-versus-a-copy\n",
      "  china_pig['Years Difference'] = china_pig['quantity'].pct_change() * 100\n"
     ]
    },
    {
     "data": {
      "text/html": [
       "<div>\n",
       "<style scoped>\n",
       "    .dataframe tbody tr th:only-of-type {\n",
       "        vertical-align: middle;\n",
       "    }\n",
       "\n",
       "    .dataframe tbody tr th {\n",
       "        vertical-align: top;\n",
       "    }\n",
       "\n",
       "    .dataframe thead th {\n",
       "        text-align: right;\n",
       "    }\n",
       "</style>\n",
       "<table border=\"1\" class=\"dataframe\">\n",
       "  <thead>\n",
       "    <tr style=\"text-align: right;\">\n",
       "      <th></th>\n",
       "      <th>location</th>\n",
       "      <th>subject</th>\n",
       "      <th>time</th>\n",
       "      <th>quantity</th>\n",
       "      <th>Years Difference</th>\n",
       "    </tr>\n",
       "  </thead>\n",
       "  <tbody>\n",
       "    <tr>\n",
       "      <th>1755</th>\n",
       "      <td>CHN</td>\n",
       "      <td>PIG</td>\n",
       "      <td>1990</td>\n",
       "      <td>15.015280</td>\n",
       "      <td>NaN</td>\n",
       "    </tr>\n",
       "    <tr>\n",
       "      <th>1756</th>\n",
       "      <td>CHN</td>\n",
       "      <td>PIG</td>\n",
       "      <td>1991</td>\n",
       "      <td>15.900710</td>\n",
       "      <td>5.896862</td>\n",
       "    </tr>\n",
       "    <tr>\n",
       "      <th>1757</th>\n",
       "      <td>CHN</td>\n",
       "      <td>PIG</td>\n",
       "      <td>1992</td>\n",
       "      <td>16.989495</td>\n",
       "      <td>6.847397</td>\n",
       "    </tr>\n",
       "    <tr>\n",
       "      <th>1758</th>\n",
       "      <td>CHN</td>\n",
       "      <td>PIG</td>\n",
       "      <td>1993</td>\n",
       "      <td>18.183803</td>\n",
       "      <td>7.029690</td>\n",
       "    </tr>\n",
       "    <tr>\n",
       "      <th>1759</th>\n",
       "      <td>CHN</td>\n",
       "      <td>PIG</td>\n",
       "      <td>1994</td>\n",
       "      <td>19.690560</td>\n",
       "      <td>8.286258</td>\n",
       "    </tr>\n",
       "  </tbody>\n",
       "</table>\n",
       "</div>"
      ],
      "text/plain": [
       "     location subject  time   quantity  Years Difference\n",
       "1755      CHN     PIG  1990  15.015280               NaN\n",
       "1756      CHN     PIG  1991  15.900710          5.896862\n",
       "1757      CHN     PIG  1992  16.989495          6.847397\n",
       "1758      CHN     PIG  1993  18.183803          7.029690\n",
       "1759      CHN     PIG  1994  19.690560          8.286258"
      ]
     },
     "execution_count": 119,
     "metadata": {},
     "output_type": "execute_result"
    }
   ],
   "source": [
    "#adding a new column in the china_pig dataframe, so as to use it in a graph\n",
    "\n",
    "china_pig['Years Difference'] = china_pig['quantity'].pct_change() * 100\n",
    "china_pig.head()"
   ]
  },
  {
   "cell_type": "code",
   "execution_count": 120,
   "id": "041cf1e3",
   "metadata": {},
   "outputs": [
    {
     "data": {
      "text/html": [
       "<div>\n",
       "<style scoped>\n",
       "    .dataframe tbody tr th:only-of-type {\n",
       "        vertical-align: middle;\n",
       "    }\n",
       "\n",
       "    .dataframe tbody tr th {\n",
       "        vertical-align: top;\n",
       "    }\n",
       "\n",
       "    .dataframe thead th {\n",
       "        text-align: right;\n",
       "    }\n",
       "</style>\n",
       "<table border=\"1\" class=\"dataframe\">\n",
       "  <thead>\n",
       "    <tr style=\"text-align: right;\">\n",
       "      <th></th>\n",
       "      <th>time</th>\n",
       "      <th>quantity</th>\n",
       "      <th>Years Difference</th>\n",
       "    </tr>\n",
       "  </thead>\n",
       "  <tbody>\n",
       "    <tr>\n",
       "      <th>count</th>\n",
       "      <td>78.000000</td>\n",
       "      <td>7.800000e+01</td>\n",
       "      <td>7.700000e+01</td>\n",
       "    </tr>\n",
       "    <tr>\n",
       "      <th>mean</th>\n",
       "      <td>2009.000000</td>\n",
       "      <td>2.325585e+07</td>\n",
       "      <td>9.143482e+05</td>\n",
       "    </tr>\n",
       "    <tr>\n",
       "      <th>std</th>\n",
       "      <td>11.327475</td>\n",
       "      <td>2.470192e+07</td>\n",
       "      <td>8.023352e+06</td>\n",
       "    </tr>\n",
       "    <tr>\n",
       "      <th>min</th>\n",
       "      <td>1990.000000</td>\n",
       "      <td>1.501528e+01</td>\n",
       "      <td>-7.883532e+00</td>\n",
       "    </tr>\n",
       "    <tr>\n",
       "      <th>25%</th>\n",
       "      <td>1999.250000</td>\n",
       "      <td>2.862529e+01</td>\n",
       "      <td>5.678952e-01</td>\n",
       "    </tr>\n",
       "    <tr>\n",
       "      <th>50%</th>\n",
       "      <td>2009.000000</td>\n",
       "      <td>1.128501e+07</td>\n",
       "      <td>1.559079e+00</td>\n",
       "    </tr>\n",
       "    <tr>\n",
       "      <th>75%</th>\n",
       "      <td>2018.750000</td>\n",
       "      <td>4.857734e+07</td>\n",
       "      <td>4.962730e+00</td>\n",
       "    </tr>\n",
       "    <tr>\n",
       "      <th>max</th>\n",
       "      <td>2028.000000</td>\n",
       "      <td>5.924697e+07</td>\n",
       "      <td>7.040463e+07</td>\n",
       "    </tr>\n",
       "  </tbody>\n",
       "</table>\n",
       "</div>"
      ],
      "text/plain": [
       "              time      quantity  Years Difference\n",
       "count    78.000000  7.800000e+01      7.700000e+01\n",
       "mean   2009.000000  2.325585e+07      9.143482e+05\n",
       "std      11.327475  2.470192e+07      8.023352e+06\n",
       "min    1990.000000  1.501528e+01     -7.883532e+00\n",
       "25%    1999.250000  2.862529e+01      5.678952e-01\n",
       "50%    2009.000000  1.128501e+07      1.559079e+00\n",
       "75%    2018.750000  4.857734e+07      4.962730e+00\n",
       "max    2028.000000  5.924697e+07      7.040463e+07"
      ]
     },
     "execution_count": 120,
     "metadata": {},
     "output_type": "execute_result"
    }
   ],
   "source": [
    "china_pig.describe()"
   ]
  },
  {
   "cell_type": "code",
   "execution_count": 127,
   "id": "cea1c1d2",
   "metadata": {},
   "outputs": [
    {
     "name": "stderr",
     "output_type": "stream",
     "text": [
      "<ipython-input-127-509da169f3ef>:9: SettingWithCopyWarning: \n",
      "A value is trying to be set on a copy of a slice from a DataFrame.\n",
      "Try using .loc[row_indexer,col_indexer] = value instead\n",
      "\n",
      "See the caveats in the documentation: https://pandas.pydata.org/pandas-docs/stable/user_guide/indexing.html#returning-a-view-versus-a-copy\n",
      "  china_pig[\"Category\"] = china_pig['Years Difference'].apply(categorize)\n"
     ]
    }
   ],
   "source": [
    "def categorize(x):\n",
    "    if x > 3:\n",
    "        return \"Small\"\n",
    "    if x < 0:\n",
    "        return \"Big\"\n",
    "    else:\n",
    "        return \"Normal\"\n",
    "      \n",
    "china_pig[\"Category\"] = china_pig['Years Difference'].apply(categorize)"
   ]
  },
  {
   "cell_type": "code",
   "execution_count": 122,
   "id": "a5ad9231",
   "metadata": {},
   "outputs": [
    {
     "data": {
      "text/html": [
       "<div>\n",
       "<style scoped>\n",
       "    .dataframe tbody tr th:only-of-type {\n",
       "        vertical-align: middle;\n",
       "    }\n",
       "\n",
       "    .dataframe tbody tr th {\n",
       "        vertical-align: top;\n",
       "    }\n",
       "\n",
       "    .dataframe thead th {\n",
       "        text-align: right;\n",
       "    }\n",
       "</style>\n",
       "<table border=\"1\" class=\"dataframe\">\n",
       "  <thead>\n",
       "    <tr style=\"text-align: right;\">\n",
       "      <th></th>\n",
       "      <th>location</th>\n",
       "      <th>subject</th>\n",
       "      <th>time</th>\n",
       "      <th>quantity</th>\n",
       "      <th>Years Difference</th>\n",
       "      <th>Category</th>\n",
       "    </tr>\n",
       "  </thead>\n",
       "  <tbody>\n",
       "    <tr>\n",
       "      <th>1755</th>\n",
       "      <td>CHN</td>\n",
       "      <td>PIG</td>\n",
       "      <td>1990</td>\n",
       "      <td>15.015280</td>\n",
       "      <td>NaN</td>\n",
       "      <td>Normal</td>\n",
       "    </tr>\n",
       "    <tr>\n",
       "      <th>1756</th>\n",
       "      <td>CHN</td>\n",
       "      <td>PIG</td>\n",
       "      <td>1991</td>\n",
       "      <td>15.900710</td>\n",
       "      <td>5.896862</td>\n",
       "      <td>Small</td>\n",
       "    </tr>\n",
       "    <tr>\n",
       "      <th>1757</th>\n",
       "      <td>CHN</td>\n",
       "      <td>PIG</td>\n",
       "      <td>1992</td>\n",
       "      <td>16.989495</td>\n",
       "      <td>6.847397</td>\n",
       "      <td>Small</td>\n",
       "    </tr>\n",
       "    <tr>\n",
       "      <th>1758</th>\n",
       "      <td>CHN</td>\n",
       "      <td>PIG</td>\n",
       "      <td>1993</td>\n",
       "      <td>18.183803</td>\n",
       "      <td>7.029690</td>\n",
       "      <td>Small</td>\n",
       "    </tr>\n",
       "    <tr>\n",
       "      <th>1759</th>\n",
       "      <td>CHN</td>\n",
       "      <td>PIG</td>\n",
       "      <td>1994</td>\n",
       "      <td>19.690560</td>\n",
       "      <td>8.286258</td>\n",
       "      <td>Small</td>\n",
       "    </tr>\n",
       "  </tbody>\n",
       "</table>\n",
       "</div>"
      ],
      "text/plain": [
       "     location subject  time   quantity  Years Difference Category\n",
       "1755      CHN     PIG  1990  15.015280               NaN   Normal\n",
       "1756      CHN     PIG  1991  15.900710          5.896862    Small\n",
       "1757      CHN     PIG  1992  16.989495          6.847397    Small\n",
       "1758      CHN     PIG  1993  18.183803          7.029690    Small\n",
       "1759      CHN     PIG  1994  19.690560          8.286258    Small"
      ]
     },
     "execution_count": 122,
     "metadata": {},
     "output_type": "execute_result"
    }
   ],
   "source": [
    "china_pig.head()"
   ]
  },
  {
   "cell_type": "code",
   "execution_count": 128,
   "id": "2bdf2c07",
   "metadata": {},
   "outputs": [
    {
     "data": {
      "text/plain": [
       "<AxesSubplot:xlabel='Category', ylabel='time'>"
      ]
     },
     "execution_count": 128,
     "metadata": {},
     "output_type": "execute_result"
    },
    {
     "data": {
      "image/png": "[encoded data removed]",
      "text/plain": [
       "<Figure size 432x288 with 1 Axes>"
      ]
     },
     "metadata": {
      "needs_background": "light"
     },
     "output_type": "display_data"
    }
   ],
   "source": [
    "import seaborn as sns\n",
    "\n",
    "sns.boxplot(y = china_pig['time'], x = china_pig['Category'])"
   ]
  },
  {
   "cell_type": "code",
   "execution_count": 158,
   "id": "6a2f9bc9",
   "metadata": {},
   "outputs": [
    {
     "data": {
      "image/png": "[encoded data removed]",
      "text/plain": [
       "<Figure size 1200x600 with 1 Axes>"
      ]
     },
     "metadata": {
      "needs_background": "light"
     },
     "output_type": "display_data"
    }
   ],
   "source": [
    "#visualize the results \n",
    "\n",
    "fig = plt.figure(figsize = (15, 7.5), dpi=80)\n",
    "\n",
    "plt.xlabel('time')\n",
    "\n",
    "plt.ylabel('quantity')\n",
    "\n",
    "plt.title('Pig consumption in China')\n",
    "\n",
    "plt.bar(china_pig['time'], china_pig['quantity'], width = 0.6)\n",
    "\n",
    "plt.xticks(rotation='vertical')\n",
    "\n",
    "plt.show()"
   ]
  },
  {
   "cell_type": "markdown",
   "id": "e25a9a69",
   "metadata": {},
   "source": [
    "***   asfafaf  "
   ]
  },
  {
   "cell_type": "markdown",
   "id": "9bc27347",
   "metadata": {},
   "source": [
    "Final Results:\n",
    "1. Throught the decades, the humanity is consimung more and more meat. It is obvious from the numbers and the prediction agrees with it as well. But, without taking into consideration the future years, 2020 is the year with the highest amounts of meat consumption\n",
    "2. Pig\n",
    "3. China\n",
    "4. Pig\n",
    "5. Surely an increase despite the rise of vegeterianism\n"
   ]
  },
  {
   "cell_type": "code",
   "execution_count": null,
   "id": "afcb6035",
   "metadata": {},
   "outputs": [],
   "source": []
  },
  {
   "cell_type": "code",
   "execution_count": null,
   "id": "bb111ccf",
   "metadata": {},
   "outputs": [],
   "source": []
  },
  {
   "cell_type": "code",
   "execution_count": null,
   "id": "c1954f9e",
   "metadata": {},
   "outputs": [],
   "source": []
  }
 ],
 "metadata": {
  "kernelspec": {
   "display_name": "Python 3",
   "language": "python",
   "name": "python3"
  },
  "language_info": {
   "codemirror_mode": {
    "name": "ipython",
    "version": 3
   },
   "file_extension": ".py",
   "mimetype": "text/x-python",
   "name": "python",
   "nbconvert_exporter": "python",
   "pygments_lexer": "ipython3",
   "version": "3.8.8"
  }
 },
 "nbformat": 4,
 "nbformat_minor": 5
}
